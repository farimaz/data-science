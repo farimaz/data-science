{
 "cells": [
  {
   "cell_type": "code",
   "execution_count": 1,
   "id": "90bddb2c",
   "metadata": {},
   "outputs": [],
   "source": [
    "import pandas as pd\n",
    "import numpy as np \n",
    "import matplotlib.pylab as plt\n",
    "import seaborn as sns"
   ]
  },
  {
   "cell_type": "code",
   "execution_count": 2,
   "id": "16731bcd",
   "metadata": {},
   "outputs": [
    {
     "data": {
      "text/html": [
       "<div>\n",
       "<style scoped>\n",
       "    .dataframe tbody tr th:only-of-type {\n",
       "        vertical-align: middle;\n",
       "    }\n",
       "\n",
       "    .dataframe tbody tr th {\n",
       "        vertical-align: top;\n",
       "    }\n",
       "\n",
       "    .dataframe thead th {\n",
       "        text-align: right;\n",
       "    }\n",
       "</style>\n",
       "<table border=\"1\" class=\"dataframe\">\n",
       "  <thead>\n",
       "    <tr style=\"text-align: right;\">\n",
       "      <th></th>\n",
       "      <th>Date</th>\n",
       "      <th>Open</th>\n",
       "      <th>High</th>\n",
       "      <th>Low</th>\n",
       "      <th>Close</th>\n",
       "      <th>Adj Close</th>\n",
       "      <th>Volume</th>\n",
       "    </tr>\n",
       "  </thead>\n",
       "  <tbody>\n",
       "    <tr>\n",
       "      <th>0</th>\n",
       "      <td>2017-10-01</td>\n",
       "      <td>0.021678</td>\n",
       "      <td>0.032226</td>\n",
       "      <td>0.017354</td>\n",
       "      <td>0.024969</td>\n",
       "      <td>0.024969</td>\n",
       "      <td>50068700.0</td>\n",
       "    </tr>\n",
       "    <tr>\n",
       "      <th>1</th>\n",
       "      <td>2017-10-02</td>\n",
       "      <td>0.024607</td>\n",
       "      <td>0.030088</td>\n",
       "      <td>0.019969</td>\n",
       "      <td>0.025932</td>\n",
       "      <td>0.025932</td>\n",
       "      <td>57641300.0</td>\n",
       "    </tr>\n",
       "    <tr>\n",
       "      <th>2</th>\n",
       "      <td>2017-10-03</td>\n",
       "      <td>0.025757</td>\n",
       "      <td>0.027425</td>\n",
       "      <td>0.020690</td>\n",
       "      <td>0.020816</td>\n",
       "      <td>0.020816</td>\n",
       "      <td>16997800.0</td>\n",
       "    </tr>\n",
       "    <tr>\n",
       "      <th>3</th>\n",
       "      <td>2017-10-04</td>\n",
       "      <td>0.020864</td>\n",
       "      <td>0.022806</td>\n",
       "      <td>0.020864</td>\n",
       "      <td>0.021931</td>\n",
       "      <td>0.021931</td>\n",
       "      <td>9000050.0</td>\n",
       "    </tr>\n",
       "    <tr>\n",
       "      <th>4</th>\n",
       "      <td>2017-10-05</td>\n",
       "      <td>0.021951</td>\n",
       "      <td>0.022154</td>\n",
       "      <td>0.020859</td>\n",
       "      <td>0.021489</td>\n",
       "      <td>0.021489</td>\n",
       "      <td>5562510.0</td>\n",
       "    </tr>\n",
       "  </tbody>\n",
       "</table>\n",
       "</div>"
      ],
      "text/plain": [
       "         Date      Open      High       Low     Close  Adj Close      Volume\n",
       "0  2017-10-01  0.021678  0.032226  0.017354  0.024969   0.024969  50068700.0\n",
       "1  2017-10-02  0.024607  0.030088  0.019969  0.025932   0.025932  57641300.0\n",
       "2  2017-10-03  0.025757  0.027425  0.020690  0.020816   0.020816  16997800.0\n",
       "3  2017-10-04  0.020864  0.022806  0.020864  0.021931   0.021931   9000050.0\n",
       "4  2017-10-05  0.021951  0.022154  0.020859  0.021489   0.021489   5562510.0"
      ]
     },
     "execution_count": 2,
     "metadata": {},
     "output_type": "execute_result"
    }
   ],
   "source": [
    "df = pd.read_csv('ADA-USD.csv')\n",
    "df.head()"
   ]
  },
  {
   "cell_type": "markdown",
   "id": "22b78f4f",
   "metadata": {},
   "source": [
    "## preprocessing"
   ]
  },
  {
   "cell_type": "code",
   "execution_count": 3,
   "id": "0150129e",
   "metadata": {},
   "outputs": [
    {
     "data": {
      "text/html": [
       "<div>\n",
       "<style scoped>\n",
       "    .dataframe tbody tr th:only-of-type {\n",
       "        vertical-align: middle;\n",
       "    }\n",
       "\n",
       "    .dataframe tbody tr th {\n",
       "        vertical-align: top;\n",
       "    }\n",
       "\n",
       "    .dataframe thead th {\n",
       "        text-align: right;\n",
       "    }\n",
       "</style>\n",
       "<table border=\"1\" class=\"dataframe\">\n",
       "  <thead>\n",
       "    <tr style=\"text-align: right;\">\n",
       "      <th></th>\n",
       "      <th>Open</th>\n",
       "      <th>High</th>\n",
       "      <th>Low</th>\n",
       "      <th>Close</th>\n",
       "      <th>Adj Close</th>\n",
       "      <th>Volume</th>\n",
       "    </tr>\n",
       "  </thead>\n",
       "  <tbody>\n",
       "    <tr>\n",
       "      <th>count</th>\n",
       "      <td>1431.000000</td>\n",
       "      <td>1431.000000</td>\n",
       "      <td>1431.000000</td>\n",
       "      <td>1431.000000</td>\n",
       "      <td>1431.000000</td>\n",
       "      <td>1.431000e+03</td>\n",
       "    </tr>\n",
       "    <tr>\n",
       "      <th>mean</th>\n",
       "      <td>0.319708</td>\n",
       "      <td>0.337130</td>\n",
       "      <td>0.302364</td>\n",
       "      <td>0.321734</td>\n",
       "      <td>0.321734</td>\n",
       "      <td>1.005328e+09</td>\n",
       "    </tr>\n",
       "    <tr>\n",
       "      <th>std</th>\n",
       "      <td>0.520927</td>\n",
       "      <td>0.549858</td>\n",
       "      <td>0.494055</td>\n",
       "      <td>0.525482</td>\n",
       "      <td>0.525482</td>\n",
       "      <td>2.199785e+09</td>\n",
       "    </tr>\n",
       "    <tr>\n",
       "      <th>min</th>\n",
       "      <td>0.018414</td>\n",
       "      <td>0.021050</td>\n",
       "      <td>0.017354</td>\n",
       "      <td>0.018539</td>\n",
       "      <td>0.018539</td>\n",
       "      <td>1.739460e+06</td>\n",
       "    </tr>\n",
       "    <tr>\n",
       "      <th>25%</th>\n",
       "      <td>0.046842</td>\n",
       "      <td>0.048389</td>\n",
       "      <td>0.045401</td>\n",
       "      <td>0.046886</td>\n",
       "      <td>0.046886</td>\n",
       "      <td>5.169782e+07</td>\n",
       "    </tr>\n",
       "    <tr>\n",
       "      <th>50%</th>\n",
       "      <td>0.090832</td>\n",
       "      <td>0.094088</td>\n",
       "      <td>0.087401</td>\n",
       "      <td>0.090867</td>\n",
       "      <td>0.090867</td>\n",
       "      <td>1.276780e+08</td>\n",
       "    </tr>\n",
       "    <tr>\n",
       "      <th>75%</th>\n",
       "      <td>0.242980</td>\n",
       "      <td>0.258416</td>\n",
       "      <td>0.229075</td>\n",
       "      <td>0.244634</td>\n",
       "      <td>0.244634</td>\n",
       "      <td>6.083750e+08</td>\n",
       "    </tr>\n",
       "    <tr>\n",
       "      <th>max</th>\n",
       "      <td>2.960665</td>\n",
       "      <td>3.099186</td>\n",
       "      <td>2.921135</td>\n",
       "      <td>2.968239</td>\n",
       "      <td>2.968239</td>\n",
       "      <td>1.914198e+10</td>\n",
       "    </tr>\n",
       "  </tbody>\n",
       "</table>\n",
       "</div>"
      ],
      "text/plain": [
       "              Open         High          Low        Close    Adj Close  \\\n",
       "count  1431.000000  1431.000000  1431.000000  1431.000000  1431.000000   \n",
       "mean      0.319708     0.337130     0.302364     0.321734     0.321734   \n",
       "std       0.520927     0.549858     0.494055     0.525482     0.525482   \n",
       "min       0.018414     0.021050     0.017354     0.018539     0.018539   \n",
       "25%       0.046842     0.048389     0.045401     0.046886     0.046886   \n",
       "50%       0.090832     0.094088     0.087401     0.090867     0.090867   \n",
       "75%       0.242980     0.258416     0.229075     0.244634     0.244634   \n",
       "max       2.960665     3.099186     2.921135     2.968239     2.968239   \n",
       "\n",
       "             Volume  \n",
       "count  1.431000e+03  \n",
       "mean   1.005328e+09  \n",
       "std    2.199785e+09  \n",
       "min    1.739460e+06  \n",
       "25%    5.169782e+07  \n",
       "50%    1.276780e+08  \n",
       "75%    6.083750e+08  \n",
       "max    1.914198e+10  "
      ]
     },
     "execution_count": 3,
     "metadata": {},
     "output_type": "execute_result"
    }
   ],
   "source": [
    "df.describe()"
   ]
  },
  {
   "cell_type": "code",
   "execution_count": 4,
   "id": "4ae63757",
   "metadata": {},
   "outputs": [
    {
     "name": "stdout",
     "output_type": "stream",
     "text": [
      "<class 'pandas.core.frame.DataFrame'>\n",
      "RangeIndex: 1435 entries, 0 to 1434\n",
      "Data columns (total 7 columns):\n",
      " #   Column     Non-Null Count  Dtype  \n",
      "---  ------     --------------  -----  \n",
      " 0   Date       1435 non-null   object \n",
      " 1   Open       1431 non-null   float64\n",
      " 2   High       1431 non-null   float64\n",
      " 3   Low        1431 non-null   float64\n",
      " 4   Close      1431 non-null   float64\n",
      " 5   Adj Close  1431 non-null   float64\n",
      " 6   Volume     1431 non-null   float64\n",
      "dtypes: float64(6), object(1)\n",
      "memory usage: 78.6+ KB\n"
     ]
    }
   ],
   "source": [
    "df.info()"
   ]
  },
  {
   "cell_type": "code",
   "execution_count": 5,
   "id": "f48f4b32",
   "metadata": {},
   "outputs": [
    {
     "data": {
      "text/plain": [
       "Date         0\n",
       "Open         4\n",
       "High         4\n",
       "Low          4\n",
       "Close        4\n",
       "Adj Close    4\n",
       "Volume       4\n",
       "dtype: int64"
      ]
     },
     "execution_count": 5,
     "metadata": {},
     "output_type": "execute_result"
    }
   ],
   "source": [
    "df.isnull().sum()"
   ]
  },
  {
   "cell_type": "code",
   "execution_count": 6,
   "id": "877cb3ba",
   "metadata": {},
   "outputs": [
    {
     "data": {
      "text/html": [
       "<div>\n",
       "<style scoped>\n",
       "    .dataframe tbody tr th:only-of-type {\n",
       "        vertical-align: middle;\n",
       "    }\n",
       "\n",
       "    .dataframe tbody tr th {\n",
       "        vertical-align: top;\n",
       "    }\n",
       "\n",
       "    .dataframe thead th {\n",
       "        text-align: right;\n",
       "    }\n",
       "</style>\n",
       "<table border=\"1\" class=\"dataframe\">\n",
       "  <thead>\n",
       "    <tr style=\"text-align: right;\">\n",
       "      <th></th>\n",
       "      <th>Date</th>\n",
       "      <th>Open</th>\n",
       "      <th>High</th>\n",
       "      <th>Low</th>\n",
       "      <th>Close</th>\n",
       "      <th>Adj Close</th>\n",
       "      <th>Volume</th>\n",
       "    </tr>\n",
       "  </thead>\n",
       "  <tbody>\n",
       "    <tr>\n",
       "      <th>929</th>\n",
       "      <td>2020-04-17</td>\n",
       "      <td>NaN</td>\n",
       "      <td>NaN</td>\n",
       "      <td>NaN</td>\n",
       "      <td>NaN</td>\n",
       "      <td>NaN</td>\n",
       "      <td>NaN</td>\n",
       "    </tr>\n",
       "    <tr>\n",
       "      <th>1104</th>\n",
       "      <td>2020-10-09</td>\n",
       "      <td>NaN</td>\n",
       "      <td>NaN</td>\n",
       "      <td>NaN</td>\n",
       "      <td>NaN</td>\n",
       "      <td>NaN</td>\n",
       "      <td>NaN</td>\n",
       "    </tr>\n",
       "    <tr>\n",
       "      <th>1107</th>\n",
       "      <td>2020-10-12</td>\n",
       "      <td>NaN</td>\n",
       "      <td>NaN</td>\n",
       "      <td>NaN</td>\n",
       "      <td>NaN</td>\n",
       "      <td>NaN</td>\n",
       "      <td>NaN</td>\n",
       "    </tr>\n",
       "    <tr>\n",
       "      <th>1108</th>\n",
       "      <td>2020-10-13</td>\n",
       "      <td>NaN</td>\n",
       "      <td>NaN</td>\n",
       "      <td>NaN</td>\n",
       "      <td>NaN</td>\n",
       "      <td>NaN</td>\n",
       "      <td>NaN</td>\n",
       "    </tr>\n",
       "  </tbody>\n",
       "</table>\n",
       "</div>"
      ],
      "text/plain": [
       "            Date  Open  High  Low  Close  Adj Close  Volume\n",
       "929   2020-04-17   NaN   NaN  NaN    NaN        NaN     NaN\n",
       "1104  2020-10-09   NaN   NaN  NaN    NaN        NaN     NaN\n",
       "1107  2020-10-12   NaN   NaN  NaN    NaN        NaN     NaN\n",
       "1108  2020-10-13   NaN   NaN  NaN    NaN        NaN     NaN"
      ]
     },
     "execution_count": 6,
     "metadata": {},
     "output_type": "execute_result"
    }
   ],
   "source": [
    "df.loc[df.Open.isnull()]"
   ]
  },
  {
   "cell_type": "code",
   "execution_count": 7,
   "id": "ca858428",
   "metadata": {},
   "outputs": [],
   "source": [
    "df.dropna(inplace=True)"
   ]
  },
  {
   "cell_type": "code",
   "execution_count": 8,
   "id": "f80dac93",
   "metadata": {},
   "outputs": [
    {
     "data": {
      "text/plain": [
       "(1431, 7)"
      ]
     },
     "execution_count": 8,
     "metadata": {},
     "output_type": "execute_result"
    }
   ],
   "source": [
    "df.shape"
   ]
  },
  {
   "cell_type": "code",
   "execution_count": 17,
   "id": "a8487c8c",
   "metadata": {},
   "outputs": [
    {
     "data": {
      "text/plain": [
       "Text(0.5, 1.0, 'Cardano Prices')"
      ]
     },
     "execution_count": 17,
     "metadata": {},
     "output_type": "execute_result"
    },
    {
     "data": {
      "image/png": "[encoded data removed]",
      "text/plain": [
       "<Figure size 1440x576 with 1 Axes>"
      ]
     },
     "metadata": {
      "needs_background": "light"
     },
     "output_type": "display_data"
    }
   ],
   "source": [
    "fig , ax = plt.subplots(figsize=(20,8))\n",
    "ax.plot(df['Date'],df['Close'])\n",
    "ax.xaxis.set_major_locator(plt.MaxNLocator(15))\n",
    "ax.set_xlabel('Date')\n",
    "ax.set_ylabel('Price')\n",
    "ax.set_title('Cardano Prices')"
   ]
  },
  {
   "cell_type": "code",
   "execution_count": 19,
   "id": "90a99afd",
   "metadata": {},
   "outputs": [
    {
     "data": {
      "text/plain": [
       "Text(0.5, 1.0, 'Volume Trends')"
      ]
     },
     "execution_count": 19,
     "metadata": {},
     "output_type": "execute_result"
    },
    {
     "data": {
      "image/png": "[encoded data removed]",
      "text/plain": [
       "<Figure size 1440x576 with 1 Axes>"
      ]
     },
     "metadata": {
      "needs_background": "light"
     },
     "output_type": "display_data"
    }
   ],
   "source": [
    "fig , ax = plt.subplots(figsize=(20,8))\n",
    "ax.bar(pd.to_datetime(df['Date']),df['Volume'],color='Blue')\n",
    "#ax.bar(df['Date'],df['Volume'],color='Blue')\n",
    "#ax.bar(pd.to_datetime(df['Date']),df['Volume'],color='red')\n",
    "ax.xaxis.set_major_locator(plt.MaxNLocator(15))\n",
    "ax.set_xlabel('Date')\n",
    "ax.set_ylabel('Volume')\n",
    "ax.set_title('Volume Trends')"
   ]
  },
  {
   "cell_type": "code",
   "execution_count": null,
   "id": "b3ae585e",
   "metadata": {},
   "outputs": [],
   "source": []
  }
 ],
 "metadata": {
  "kernelspec": {
   "display_name": "Python 3",
   "language": "python",
   "name": "python3"
  },
  "language_info": {
   "codemirror_mode": {
    "name": "ipython",
    "version": 3
   },
   "file_extension": ".py",
   "mimetype": "text/x-python",
   "name": "python",
   "nbconvert_exporter": "python",
   "pygments_lexer": "ipython3",
   "version": "3.8.8"
  }
 },
 "nbformat": 4,
 "nbformat_minor": 5
}
